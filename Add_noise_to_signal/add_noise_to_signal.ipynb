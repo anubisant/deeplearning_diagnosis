{
 "cells": [
  {
   "cell_type": "heading",
   "metadata": {},
   "level": 1,
   "source": [
    "1、导入必须的库"
   ]
  },
  {
   "cell_type": "code",
   "execution_count": 2,
   "metadata": {},
   "outputs": [],
   "source": [
    "import math\n",
    "import scipy.io as scio\n",
    "import numpy as np"
   ]
  },
  {
   "cell_type": "heading",
   "metadata": {},
   "level": 1,
   "source": [
    "2、导入需要的数据"
   ]
  },
  {
   "cell_type": "code",
   "execution_count": 3,
   "metadata": {},
   "outputs": [],
   "source": [
    "signal_path=r\"G:\\04 实验数据\\bearing_dataset_2000.mat\"\n",
    "signal=scio.loadmat(signal_path)[\"train_dataset\"][0][0:-1]"
   ]
  },
  {
   "cell_type": "heading",
   "metadata": {},
   "level": 1,
   "source": [
    "3、确定参数的值"
   ]
  },
  {
   "cell_type": "code",
   "execution_count": 4,
   "metadata": {},
   "outputs": [],
   "source": [
    "SNR=-2"
   ]
  },
  {
   "cell_type": "heading",
   "metadata": {},
   "level": 1,
   "source": [
    "4、编写加噪函数"
   ]
  },
  {
   "cell_type": "code",
   "execution_count": 5,
   "metadata": {},
   "outputs": [],
   "source": [
    "def add_noise_to_signal(signal,SNR):\n",
    "    \"\"\"\n",
    "    :param signal: 输入信号\n",
    "    :param SNR: 添加噪声的信噪比\n",
    "    :return: 添加噪声后的信号\n",
    "    \"\"\"\n",
    "    noise=np.random.randn(*signal.shape)\n",
    "    noise=noise-np.mean(noise)\n",
    "    signal_power=(1/signal.shape[0])*sum(signal*signal)\n",
    "    noise_variance=signal_power/np.power(10,(SNR/10))\n",
    "    noise=(np.sqrt(noise_variance)/np.std(noise))*noise\n",
    "    noisy_signal=signal+noise\n",
    "    return noise,noisy_signal"
   ]
  },
  {
   "cell_type": "heading",
   "metadata": {},
   "level": 1,
   "source": [
    "5、编写信噪比验证函数"
   ]
  },
  {
   "cell_type": "code",
   "execution_count": 9,
   "metadata": {},
   "outputs": [],
   "source": [
    "def caculate_power(signal):\n",
    "    return (1/signal.shape[0])*sum(signal*signal)\n",
    "    \n",
    "    \n",
    "def check_snr(signal,noisy_signal):\n",
    "    \"\"\"\n",
    "    :param signal: 原始信号\n",
    "    :param noisy_signal: 含噪信号\n",
    "    :return: 返回两者的信噪比\n",
    "    \"\"\"\n",
    "    signal_power=caculate_power(signal)\n",
    "    noise_power=caculate_power(noisy_signal)-signal_power\n",
    "    SNR=10*np.log10(signal_power/noise_power)\n",
    "    return SNR"
   ]
  },
  {
   "cell_type": "code",
   "execution_count": 14,
   "metadata": {
    "collapsed": true
   },
   "outputs": [],
   "source": [
    "# 生成固定信噪比的\n",
    "noise,noisy_signal=add_noise_to_signal(signal,-5)"
   ]
  },
  {
   "cell_type": "code",
   "execution_count": 15,
   "metadata": {},
   "outputs": [
    {
     "name": "stdout",
     "output_type": "stream",
     "text": [
      "-5.158526361321151\n"
     ]
    }
   ],
   "source": [
    "# 检查添加的信噪比是否正确\n",
    "SNR=check_snr(signal,noisy_signal)\n",
    "print(SNR)"
   ]
  },
  {
   "cell_type": "code",
   "execution_count": 13,
   "metadata": {},
   "outputs": [
    {
     "data": {
      "text/plain": [
       "<Figure size 640x480 with 1 Axes>"
      ]
     },
     "execution_count": 0,
     "metadata": {},
     "output_type": "execute_result"
    }
   ],
   "source": [
    "import matplotlib.pyplot as plt\n",
    "x=np.linspace(0,6,2000)\n",
    "a=np.sin(x)\n",
    "plt.plot(a)\n",
    "plt.show()"
   ]
  },
  {
   "cell_type": "code",
   "execution_count": 23,
   "metadata": {},
   "outputs": [
    {
     "name": "stdout",
     "output_type": "stream",
     "text": [
      "0.5722037564055116\n0.9068818382277706\n-1.999999999999991\n"
     ]
    }
   ],
   "source": [
    "import numpy as np\n",
    "def gen_gaussian_noise(signal,SNR):\n",
    "    \"\"\"\n",
    "    :param signal: 原始信号\n",
    "    :param SNR: 添加噪声的信噪比\n",
    "    :return: 生成的噪声\n",
    "    \"\"\"\n",
    "    noise=np.random.randn(*signal.shape) # *signal.shape 获取样本序列的尺寸\n",
    "    noise=noise-np.mean(noise)\n",
    "    signal_power=(1/signal.shape[0])*sum(np.power(signal,2))\n",
    "    noise_variance=signal_power/np.power(10,(SNR/10))\n",
    "    noise=(np.sqrt(noise_variance)/np.std(noise))*noise\n",
    "    return noise\n",
    "\n",
    "\n",
    "x=np.linspace(1,6,2000)\n",
    "signal=np.sin(x)\n",
    "\n",
    "\n",
    "noise = gen_gaussian_noise(signal,-2)\n",
    "noisy_signal=signal+noise\n",
    "\n",
    "def check_snr(signal,noise):\n",
    "    \"\"\"\n",
    "    :param signal: 原始信号\n",
    "    :param noise: 生成的高斯噪声\n",
    "    :return: 返回两者的信噪比\n",
    "    \"\"\"\n",
    "    signal_power=(1/signal.shape[0])*np.sum(np.power(signal,2)) #\n",
    "    print(signal_power)\n",
    "    noise_power=(1/noise.shape[0])*np.sum(np.power(noise,2)) #\n",
    "    print(noise_power)\n",
    "    SNR=10*np.log10(signal_power/noise_power)\n",
    "    return SNR\n",
    "SNR = check_snr(signal,noise)\n",
    "print (SNR) # 输出 -2.00000001 dB"
   ]
  }
 ],
 "metadata": {
  "kernelspec": {
   "display_name": "Python 2",
   "language": "python",
   "name": "python2"
  },
  "language_info": {
   "codemirror_mode": {
    "name": "ipython",
    "version": 2
   },
   "file_extension": ".py",
   "mimetype": "text/x-python",
   "name": "python",
   "nbconvert_exporter": "python",
   "pygments_lexer": "ipython2",
   "version": "2.7.6"
  }
 },
 "nbformat": 4,
 "nbformat_minor": 0
}
